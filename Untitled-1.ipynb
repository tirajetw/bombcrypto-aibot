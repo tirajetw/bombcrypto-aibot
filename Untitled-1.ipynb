{
 "cells": [
  {
   "cell_type": "code",
   "execution_count": 22,
   "metadata": {},
   "outputs": [],
   "source": [
    "# import cv2\n",
    "import pyautogui\n",
    "from time import sleep "
   ]
  },
  {
   "cell_type": "code",
   "execution_count": 23,
   "metadata": {},
   "outputs": [],
   "source": [
    "#pyautogui no cooldown time\n",
    "pyautogui.PAUSE = 0"
   ]
  },
  {
   "cell_type": "code",
   "execution_count": 24,
   "metadata": {},
   "outputs": [
    {
     "data": {
      "text/plain": [
       "Size(width=1440, height=900)"
      ]
     },
     "execution_count": 24,
     "metadata": {},
     "output_type": "execute_result"
    }
   ],
   "source": [
    "#Get the screen size\n",
    "pyautogui.size()"
   ]
  },
  {
   "cell_type": "code",
   "execution_count": 80,
   "metadata": {},
   "outputs": [
    {
     "data": {
      "text/plain": [
       "Point(x=86, y=89)"
      ]
     },
     "execution_count": 80,
     "metadata": {},
     "output_type": "execute_result"
    }
   ],
   "source": [
    "pyautogui.position()"
   ]
  },
  {
   "cell_type": "code",
   "execution_count": 81,
   "metadata": {},
   "outputs": [
    {
     "name": "stdout",
     "output_type": "stream",
     "text": [
      "Refresh screen\n",
      "Click CONNECT WALLET\n",
      "wait wallet to load\n",
      "click Sign button Point\n",
      "wait game to load 10 sec.\n",
      "go to Treasure hunt mode\n"
     ]
    }
   ],
   "source": []
  },
  {
   "cell_type": "code",
   "execution_count": null,
   "metadata": {},
   "outputs": [],
   "source": []
  },
  {
   "cell_type": "code",
   "execution_count": 85,
   "metadata": {},
   "outputs": [
    {
     "name": "stdout",
     "output_type": "stream",
     "text": [
      "start in  4\n",
      "start in  3\n",
      "start in  2\n",
      "start in  1\n",
      "Refresh screen\n",
      "Click CONNECT WALLET\n",
      "wait wallet to load\n",
      "click Sign button Point\n",
      "wait game to load 10 sec.\n",
      "go to Treasure hunt mode\n",
      "wait  30  minutes for run bot again.\n",
      "wait  29  minutes for run bot again.\n",
      "wait  28  minutes for run bot again.\n",
      "wait  27  minutes for run bot again.\n",
      "wait  26  minutes for run bot again.\n",
      "wait  25  minutes for run bot again.\n",
      "wait  24  minutes for run bot again.\n",
      "wait  23  minutes for run bot again.\n",
      "wait  22  minutes for run bot again.\n",
      "wait  21  minutes for run bot again.\n",
      "wait  20  minutes for run bot again.\n",
      "wait  19  minutes for run bot again.\n",
      "wait  18  minutes for run bot again.\n",
      "wait  17  minutes for run bot again.\n",
      "wait  16  minutes for run bot again.\n",
      "wait  15  minutes for run bot again.\n",
      "wait  14  minutes for run bot again.\n",
      "wait  13  minutes for run bot again.\n",
      "wait  12  minutes for run bot again.\n",
      "wait  11  minutes for run bot again.\n",
      "wait  10  minutes for run bot again.\n",
      "wait  9  minutes for run bot again.\n",
      "wait  8  minutes for run bot again.\n",
      "wait  7  minutes for run bot again.\n",
      "wait  6  minutes for run bot again.\n",
      "wait  5  minutes for run bot again.\n",
      "wait  4  minutes for run bot again.\n",
      "wait  3  minutes for run bot again.\n",
      "wait  2  minutes for run bot again.\n",
      "wait  1  minutes for run bot again.\n",
      "start in  4\n",
      "start in  3\n",
      "start in  2\n",
      "start in  1\n",
      "Refresh screen\n",
      "Click CONNECT WALLET\n",
      "wait wallet to load\n",
      "click Sign button Point\n",
      "wait game to load 10 sec.\n",
      "go to Treasure hunt mode\n",
      "wait  30  minutes for run bot again.\n",
      "wait  29  minutes for run bot again.\n",
      "wait  28  minutes for run bot again.\n",
      "wait  27  minutes for run bot again.\n",
      "wait  26  minutes for run bot again.\n",
      "wait  25  minutes for run bot again.\n",
      "wait  24  minutes for run bot again.\n",
      "wait  23  minutes for run bot again.\n",
      "wait  22  minutes for run bot again.\n",
      "wait  21  minutes for run bot again.\n",
      "wait  20  minutes for run bot again.\n",
      "wait  19  minutes for run bot again.\n",
      "wait  18  minutes for run bot again.\n",
      "wait  17  minutes for run bot again.\n",
      "wait  16  minutes for run bot again.\n",
      "wait  15  minutes for run bot again.\n",
      "wait  14  minutes for run bot again.\n",
      "wait  13  minutes for run bot again.\n",
      "wait  12  minutes for run bot again.\n",
      "wait  11  minutes for run bot again.\n",
      "wait  10  minutes for run bot again.\n",
      "wait  9  minutes for run bot again.\n",
      "wait  8  minutes for run bot again.\n",
      "wait  7  minutes for run bot again.\n",
      "wait  6  minutes for run bot again.\n",
      "wait  5  minutes for run bot again.\n",
      "wait  4  minutes for run bot again.\n",
      "wait  3  minutes for run bot again.\n",
      "wait  2  minutes for run bot again.\n",
      "wait  1  minutes for run bot again.\n",
      "start in  4\n",
      "start in  3\n",
      "start in  2\n",
      "start in  1\n",
      "Refresh screen\n",
      "Click CONNECT WALLET\n",
      "wait wallet to load\n",
      "click Sign button Point\n",
      "wait game to load 10 sec.\n",
      "go to Treasure hunt mode\n",
      "wait  30  minutes for run bot again.\n",
      "wait  29  minutes for run bot again.\n",
      "wait  28  minutes for run bot again.\n",
      "wait  27  minutes for run bot again.\n",
      "wait  26  minutes for run bot again.\n",
      "wait  25  minutes for run bot again.\n",
      "wait  24  minutes for run bot again.\n"
     ]
    }
   ],
   "source": [
    "while True :\n",
    "    for i in range(1,5):\n",
    "        print(\"start in \", 5-i)\n",
    "        sleep(1)\n",
    "    # Refresh the screen\n",
    "    print(\"Refresh screen\")\n",
    "    pyautogui.moveTo(86, 89)\n",
    "    pyautogui.click()\n",
    "    pyautogui.click()\n",
    "\n",
    "    sleep(5)\n",
    "    # Login to the game\n",
    "    # click on the CONNECT WALLET button.\n",
    "    print(\"Click CONNECT WALLET\")\n",
    "    pyautogui.moveTo(738, 604)\n",
    "    sleep(1)\n",
    "    pyautogui.click()\n",
    "\n",
    "\n",
    "    # wait wallet to load\n",
    "    print(\"wait wallet to load\")\n",
    "    sleep(3)\n",
    "\n",
    "    # click Sign button Point(x=1345, y=594)\n",
    "    print(\"click Sign button Point\")\n",
    "    pyautogui.moveTo(1345, 594)\n",
    "    sleep(1)\n",
    "    pyautogui.click()\n",
    "\n",
    "    # wait game to load\n",
    "    print(\"wait game to load 10 sec.\")\n",
    "    sleep(15)\n",
    "\n",
    "    # go to Treasure hunt mode Point(x=749, y=435)\n",
    "    print(\"go to Treasure hunt mode\")\n",
    "    pyautogui.moveTo(749, 435)\n",
    "    pyautogui.click()\n",
    "\n",
    "    # open heroes list.\n",
    "    pyautogui.moveTo(735, 680, 1) # move to arrowup\n",
    "    sleep(1)\n",
    "    pyautogui.click()\n",
    "    sleep(1)\n",
    "    pyautogui.click()\n",
    "\n",
    "    # drag mouse to scroll to the bottom of list\n",
    "    pyautogui.moveTo(600, 635, 1) # move to bottom\n",
    "    sleep(1)\n",
    "    pyautogui.click()\n",
    "    sleep(0.5)\n",
    "    pyautogui.drag(0,-500,1,button='left')\n",
    "\n",
    "    # Point(x=665, y=625) wake button\n",
    "    # wake all heroes\n",
    "    pyautogui.moveTo(665, 625, 1) # move to wake button\n",
    "    for i in range(0,12):\n",
    "        sleep(1)\n",
    "        pyautogui.click()\n",
    "\n",
    "    # exit heroes list Point(x=1100, y=492)\n",
    "    pyautogui.moveTo(1100, 492, 1) # move to edge of winndow\n",
    "    sleep(1)\n",
    "    pyautogui.click()\n",
    "    sleep(1)\n",
    "    pyautogui.click()\n",
    "\n",
    "    # do it every 30 minutes\n",
    "    pyautogui.screenshot('screenshot.png')\n",
    "\n",
    "    waitTime = 30\n",
    "    for i in range(0,waitTime):\n",
    "        print(\"wait \", waitTime-i ,\" minutes for run bot again.\")\n",
    "        sleep(60)\n"
   ]
  },
  {
   "cell_type": "code",
   "execution_count": null,
   "metadata": {},
   "outputs": [],
   "source": []
  },
  {
   "cell_type": "code",
   "execution_count": null,
   "metadata": {},
   "outputs": [],
   "source": []
  }
 ],
 "metadata": {
  "interpreter": {
   "hash": "aee8b7b246df8f9039afb4144a1f6fd8d2ca17a180786b69acc140d282b71a49"
  },
  "kernelspec": {
   "display_name": "Python 3.9.6 64-bit",
   "language": "python",
   "name": "python3"
  },
  "language_info": {
   "codemirror_mode": {
    "name": "ipython",
    "version": 3
   },
   "file_extension": ".py",
   "mimetype": "text/x-python",
   "name": "python",
   "nbconvert_exporter": "python",
   "pygments_lexer": "ipython3",
   "version": "3.9.6"
  },
  "orig_nbformat": 4
 },
 "nbformat": 4,
 "nbformat_minor": 2
}
